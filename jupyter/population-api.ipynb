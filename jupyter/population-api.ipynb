{
 "cells": [
  {
   "cell_type": "markdown",
   "id": "grand-median",
   "metadata": {},
   "source": [
    "# Population API\n",
    "\n",
    "The following notebook obtains the population per country using the World Population REST API, by World Data Labs."
   ]
  },
  {
   "cell_type": "code",
   "execution_count": 3,
   "id": "intense-behavior",
   "metadata": {},
   "outputs": [],
   "source": [
    "#Import dependencies\n",
    "import pandas as pd\n",
    "import requests"
   ]
  },
  {
   "cell_type": "code",
   "execution_count": 4,
   "id": "sustainable-weather",
   "metadata": {},
   "outputs": [],
   "source": [
    "#Import API Key\n",
    "from config import api_key"
   ]
  },
  {
   "cell_type": "code",
   "execution_count": 9,
   "id": "delayed-convergence",
   "metadata": {},
   "outputs": [],
   "source": [
    "#Get information\n",
    "url = \"https://ajayakv-rest-countries-v1.p.rapidapi.com/rest/v1/all\"\n",
    "headers = {\n",
    "    'x-rapidapi-key': api_key,\n",
    "    'x-rapidapi-host': \"ajayakv-rest-countries-v1.p.rapidapi.com\"\n",
    "    }\n",
    "countryinfo = requests.request(\"GET\", url, headers=headers).json()"
   ]
  },
  {
   "cell_type": "code",
   "execution_count": 10,
   "id": "minor-dubai",
   "metadata": {},
   "outputs": [],
   "source": [
    "#Get values for country, code and population\n",
    "country = []\n",
    "code = []\n",
    "population = []\n",
    "for info in countryinfo:\n",
    "    country.append(info['name'])\n",
    "    code.append(info['alpha3Code'])\n",
    "    population.append(info['population'])"
   ]
  },
  {
   "cell_type": "code",
   "execution_count": 11,
   "id": "discrete-investigation",
   "metadata": {},
   "outputs": [
    {
     "data": {
      "text/html": [
       "<div>\n",
       "<style scoped>\n",
       "    .dataframe tbody tr th:only-of-type {\n",
       "        vertical-align: middle;\n",
       "    }\n",
       "\n",
       "    .dataframe tbody tr th {\n",
       "        vertical-align: top;\n",
       "    }\n",
       "\n",
       "    .dataframe thead th {\n",
       "        text-align: right;\n",
       "    }\n",
       "</style>\n",
       "<table border=\"1\" class=\"dataframe\">\n",
       "  <thead>\n",
       "    <tr style=\"text-align: right;\">\n",
       "      <th></th>\n",
       "      <th>Country</th>\n",
       "      <th>Country Code</th>\n",
       "      <th>Population</th>\n",
       "    </tr>\n",
       "  </thead>\n",
       "  <tbody>\n",
       "    <tr>\n",
       "      <th>0</th>\n",
       "      <td>Afghanistan</td>\n",
       "      <td>AFG</td>\n",
       "      <td>26023100</td>\n",
       "    </tr>\n",
       "    <tr>\n",
       "      <th>1</th>\n",
       "      <td>Åland Islands</td>\n",
       "      <td>ALA</td>\n",
       "      <td>28875</td>\n",
       "    </tr>\n",
       "    <tr>\n",
       "      <th>2</th>\n",
       "      <td>Albania</td>\n",
       "      <td>ALB</td>\n",
       "      <td>2893005</td>\n",
       "    </tr>\n",
       "    <tr>\n",
       "      <th>3</th>\n",
       "      <td>Algeria</td>\n",
       "      <td>DZA</td>\n",
       "      <td>39500000</td>\n",
       "    </tr>\n",
       "    <tr>\n",
       "      <th>4</th>\n",
       "      <td>American Samoa</td>\n",
       "      <td>ASM</td>\n",
       "      <td>55519</td>\n",
       "    </tr>\n",
       "  </tbody>\n",
       "</table>\n",
       "</div>"
      ],
      "text/plain": [
       "          Country Country Code  Population\n",
       "0     Afghanistan          AFG    26023100\n",
       "1   Åland Islands          ALA       28875\n",
       "2         Albania          ALB     2893005\n",
       "3         Algeria          DZA    39500000\n",
       "4  American Samoa          ASM       55519"
      ]
     },
     "execution_count": 11,
     "metadata": {},
     "output_type": "execute_result"
    }
   ],
   "source": [
    "#Create DataFrame from values\n",
    "countries = pd.DataFrame({'Country': country, 'Country Code': code, 'Population':population})\n",
    "countries.head()"
   ]
  },
  {
   "cell_type": "code",
   "execution_count": 12,
   "id": "japanese-harmony",
   "metadata": {},
   "outputs": [],
   "source": [
    "#Export to CSV\n",
    "countries.to_csv('../resources/countries.csv',index=False)"
   ]
  },
  {
   "cell_type": "code",
   "execution_count": null,
   "id": "spread-leone",
   "metadata": {},
   "outputs": [],
   "source": []
  }
 ],
 "metadata": {
  "kernelspec": {
   "display_name": "Python [conda env:mypython1] *",
   "language": "python",
   "name": "conda-env-mypython1-py"
  },
  "language_info": {
   "codemirror_mode": {
    "name": "ipython",
    "version": 3
   },
   "file_extension": ".py",
   "mimetype": "text/x-python",
   "name": "python",
   "nbconvert_exporter": "python",
   "pygments_lexer": "ipython3",
   "version": "3.6.10"
  }
 },
 "nbformat": 4,
 "nbformat_minor": 5
}
